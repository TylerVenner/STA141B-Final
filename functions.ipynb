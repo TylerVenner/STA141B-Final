{
 "cells": [
  {
   "cell_type": "code",
   "execution_count": 2,
   "id": "307ecca4",
   "metadata": {},
   "outputs": [],
   "source": [
    "def update_course_dict(course_title, course_dict, course_score):\n",
    "\n",
    "    # if true, it means that the course is already in the dictionary\n",
    "    if course_title in course_dict:\n",
    "        return course_dict\n",
    "    \n",
    "    # if not true, it means we need to add it to the dictionary\n",
    "    else:\n",
    "        course_dict[course_title] = course_score\n",
    "        return course_dict"
   ]
  },
  {
   "cell_type": "code",
   "execution_count": 3,
   "id": "e94d3183",
   "metadata": {},
   "outputs": [],
   "source": [
    "def update_major_dict(major_title, major_dict, course_title, course_score):\n",
    "\n",
    "    # if true, it means that the course is already in the dictionary\n",
    "    if course_title in [item[0] for item in major_dict[major_title]]:\n",
    "        return major_dict\n",
    "    \n",
    "    # if not true, it means we need to add it to the dictionary\n",
    "    else:\n",
    "        # get the list already associated with this major\n",
    "        curr_list = major_dict[major_title]\n",
    "\n",
    "        # append new information\n",
    "        curr_list.append((course_title, course_score))\n",
    "        major_dict[major_title] = curr_list\n",
    "\n",
    "        return major_dict"
   ]
  },
  {
   "cell_type": "code",
   "execution_count": 4,
   "id": "34464eeb",
   "metadata": {},
   "outputs": [
    {
     "name": "stdout",
     "output_type": "stream",
     "text": [
      "WHAT IS THIS\n"
     ]
    }
   ],
   "source": [
    "print('WHAT IS THIS')"
   ]
  },
  {
   "cell_type": "code",
   "execution_count": null,
   "id": "21c76a56",
   "metadata": {},
   "outputs": [
    {
     "name": "stdout",
     "output_type": "stream",
     "text": [
      "yes\n"
     ]
    }
   ],
   "source": []
  },
  {
   "cell_type": "code",
   "execution_count": null,
   "id": "7dfd88fe",
   "metadata": {},
   "outputs": [],
   "source": []
  }
 ],
 "metadata": {
  "kernelspec": {
   "display_name": "Python 3",
   "language": "python",
   "name": "python3"
  },
  "language_info": {
   "codemirror_mode": {
    "name": "ipython",
    "version": 3
   },
   "file_extension": ".py",
   "mimetype": "text/x-python",
   "name": "python",
   "nbconvert_exporter": "python",
   "pygments_lexer": "ipython3",
   "version": "3.12.0"
  }
 },
 "nbformat": 4,
 "nbformat_minor": 5
}
