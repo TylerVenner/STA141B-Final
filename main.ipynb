{
 "cells": [
  {
   "cell_type": "code",
   "execution_count": 1,
   "id": "d55689d0",
   "metadata": {},
   "outputs": [],
   "source": [
    "import requests\n",
    "import requests_cache\n",
    "import lxml.html as lx\n",
    "import re"
   ]
  },
  {
   "cell_type": "code",
   "execution_count": 10,
   "id": "fdfffc41",
   "metadata": {},
   "outputs": [
    {
     "data": {
      "text/plain": [
       "'https://www.ucdavis.edu/majors/animal-biology'"
      ]
     },
     "execution_count": 10,
     "metadata": {},
     "output_type": "execute_result"
    }
   ],
   "source": [
    "endpoint = \"https://biotech.ucdavis.edu/undergraduate\"\n",
    "\n",
    "response = requests.get(endpoint)\n",
    "response.raise_for_status()\n",
    "\n",
    "html = lx.fromstring(response.text)\n",
    "\n",
    "a = html.xpath('//*[@id=\"block-sitefarm-one-content\"]/article/div/div/div/div/div/ul[1]/li[1]/a/@href') # this is first endpoint\n",
    "b = html.xpath('//*[@id=\"block-sitefarm-one-content\"]/article/div/div/div/div/div/ul[1]/li[2]/a/@href') # this is second endpoint\n",
    "b[0]"
   ]
  },
  {
   "cell_type": "code",
   "execution_count": 17,
   "id": "ea376495",
   "metadata": {},
   "outputs": [
    {
     "data": {
      "text/plain": [
       "\"Animals play important roles in human economy, society and culture. They can be\\xa0valuable economic resources, beloved companions, destructive nuisances or members of complex natural systems.\\xa0Animal biology, the study of biological principles as they apply specifically to animals, bridges the gap between general biological sciences and applied animal husbandry techniques. As an animal biology major, you'll have the chance to put your theoretical knowledge into practice by working with wild and domesticated animals in hands-on situations.\""
      ]
     },
     "execution_count": 17,
     "metadata": {},
     "output_type": "execute_result"
    }
   ],
   "source": [
    "headers = {'user-agent': 'Mozilla/5.0 (Windows NT 10.0; Win64; x64) AppleWebKit/537.36 (KHTML, like Gecko) Chrome/130.0.0.0 Safari/537.36'}\n",
    "\n",
    "response = requests.get(b[0], headers = headers)\n",
    "response.raise_for_status()\n",
    "\n",
    "html = lx.fromstring(response.text)\n",
    "\n",
    "text = html.xpath('//*[@id=\"block-ucd-content\"]/article/div/div[1]/div[3]/p[2]')\n",
    "\n",
    "text[0].text_content()"
   ]
  },
  {
   "cell_type": "code",
   "execution_count": null,
   "id": "307ecca4",
   "metadata": {},
   "outputs": [],
   "source": []
  }
 ],
 "metadata": {
  "kernelspec": {
   "display_name": "Python 3",
   "language": "python",
   "name": "python3"
  },
  "language_info": {
   "codemirror_mode": {
    "name": "ipython",
    "version": 3
   },
   "file_extension": ".py",
   "mimetype": "text/x-python",
   "name": "python",
   "nbconvert_exporter": "python",
   "pygments_lexer": "ipython3",
   "version": "3.12.0"
  }
 },
 "nbformat": 4,
 "nbformat_minor": 5
}
